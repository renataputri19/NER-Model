{
  "nbformat": 4,
  "nbformat_minor": 5,
  "metadata": {
    "kernelspec": {
      "display_name": "Python 3 (ipykernel)",
      "language": "python",
      "name": "python3"
    },
    "language_info": {
      "codemirror_mode": {
        "name": "ipython",
        "version": 3
      },
      "file_extension": ".py",
      "mimetype": "text/x-python",
      "name": "python",
      "nbconvert_exporter": "python",
      "pygments_lexer": "ipython3",
      "version": "3.9.7"
    },
    "colab": {
      "name": "NER.ipynb",
      "provenance": [],
      "collapsed_sections": []
    }
  },
  "cells": [
    {
      "cell_type": "code",
      "metadata": {
        "id": "u2_b9d_6vM3x"
      },
      "source": [
        "pip install spacy==2.1.6"
      ],
      "id": "u2_b9d_6vM3x",
      "execution_count": null,
      "outputs": []
    },
    {
      "cell_type": "code",
      "metadata": {
        "colab": {
          "resources": {
            "http://localhost:8080/nbextensions/google.colab/files.js": {
              "data": "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",
              "ok": true,
              "headers": [
                [
                  "content-type",
                  "application/javascript"
                ]
              ],
              "status": 200,
              "status_text": ""
            }
          },
          "base_uri": "https://localhost:8080/",
          "height": 74
        },
        "id": "zUQ5YdQPuKHu",
        "outputId": "5a8c4b58-17b0-4596-bc4a-aa161f52718e"
      },
      "source": [
        "from google.colab import files\n",
        "uploaded = files.upload()"
      ],
      "id": "zUQ5YdQPuKHu",
      "execution_count": 3,
      "outputs": [
        {
          "output_type": "display_data",
          "data": {
            "text/html": [
              "\n",
              "     <input type=\"file\" id=\"files-5a666813-0870-4bd6-8b66-7f13562b7350\" name=\"files[]\" multiple disabled\n",
              "        style=\"border:none\" />\n",
              "     <output id=\"result-5a666813-0870-4bd6-8b66-7f13562b7350\">\n",
              "      Upload widget is only available when the cell has been executed in the\n",
              "      current browser session. Please rerun this cell to enable.\n",
              "      </output>\n",
              "      <script src=\"/nbextensions/google.colab/files.js\"></script> "
            ],
            "text/plain": [
              "<IPython.core.display.HTML object>"
            ]
          },
          "metadata": {}
        },
        {
          "output_type": "stream",
          "name": "stdout",
          "text": [
            "Saving berita_34_50.json to berita_34_50.json\n"
          ]
        }
      ]
    },
    {
      "cell_type": "code",
      "metadata": {
        "id": "ZCeXKOTXuTVo"
      },
      "source": [
        "import json\n",
        "\n",
        "\n",
        "# Reading a JSON file\n",
        "with open('berita_34_50.json', 'r') as f:\n",
        "    ner_spacy_fmt_datasets = json.load(f)"
      ],
      "id": "ZCeXKOTXuTVo",
      "execution_count": 134,
      "outputs": []
    },
    {
      "cell_type": "code",
      "metadata": {
        "id": "j6jJ6m0oyuVQ"
      },
      "source": [
        "import pandas as pd\n",
        "data = pd.DataFrame(ner_spacy_fmt_datasets)"
      ],
      "id": "j6jJ6m0oyuVQ",
      "execution_count": 135,
      "outputs": []
    },
    {
      "cell_type": "code",
      "metadata": {
        "colab": {
          "base_uri": "https://localhost:8080/",
          "height": 635
        },
        "id": "NTdXeUEjz0sr",
        "outputId": "55a07de5-ee3b-48fe-d398-ad7793c5dee1"
      },
      "source": [
        "data"
      ],
      "id": "NTdXeUEjz0sr",
      "execution_count": 136,
      "outputs": [
        {
          "output_type": "execute_result",
          "data": {
            "text/html": [
              "<div>\n",
              "<style scoped>\n",
              "    .dataframe tbody tr th:only-of-type {\n",
              "        vertical-align: middle;\n",
              "    }\n",
              "\n",
              "    .dataframe tbody tr th {\n",
              "        vertical-align: top;\n",
              "    }\n",
              "\n",
              "    .dataframe thead th {\n",
              "        text-align: right;\n",
              "    }\n",
              "</style>\n",
              "<table border=\"1\" class=\"dataframe\">\n",
              "  <thead>\n",
              "    <tr style=\"text-align: right;\">\n",
              "      <th></th>\n",
              "      <th>id</th>\n",
              "      <th>data</th>\n",
              "      <th>label</th>\n",
              "    </tr>\n",
              "  </thead>\n",
              "  <tbody>\n",
              "    <tr>\n",
              "      <th>0</th>\n",
              "      <td>292</td>\n",
              "      <td>di perkotaan dengan lahan yang terbatas sering...</td>\n",
              "      <td>[[199, 203, B-COM]]</td>\n",
              "    </tr>\n",
              "    <tr>\n",
              "      <th>1</th>\n",
              "      <td>293</td>\n",
              "      <td>farming menjadi tren dan kegiatan baru yang di...</td>\n",
              "      <td>[[1594, 1599, B-COM], [1611, 1614, B-LOC], [16...</td>\n",
              "    </tr>\n",
              "    <tr>\n",
              "      <th>2</th>\n",
              "      <td>294</td>\n",
              "      <td>melihat orang memelihara ikan lele di dalam em...</td>\n",
              "      <td>[[78, 86, B-COM], [92, 99, B-COM], [25, 29, B-...</td>\n",
              "    </tr>\n",
              "    <tr>\n",
              "      <th>3</th>\n",
              "      <td>295</td>\n",
              "      <td>kelompok wanita tani kwt berkah membudidayakan...</td>\n",
              "      <td>[[129, 133, B-COM], [56, 60, B-COM], [218, 222...</td>\n",
              "    </tr>\n",
              "    <tr>\n",
              "      <th>4</th>\n",
              "      <td>296</td>\n",
              "      <td>teknik penggabungan dari aquakultur dan hidrop...</td>\n",
              "      <td>[[193, 197, B-COM], [198, 202, I-COM], [236, 2...</td>\n",
              "    </tr>\n",
              "    <tr>\n",
              "      <th>5</th>\n",
              "      <td>297</td>\n",
              "      <td>ayam dan daging sudah populer yang ini sate di...</td>\n",
              "      <td>[[0, 4, B-COM], [63, 67, B-COM], [68, 72, I-CO...</td>\n",
              "    </tr>\n",
              "    <tr>\n",
              "      <th>6</th>\n",
              "      <td>298</td>\n",
              "      <td>dunia butuh lebih banyak sumber pangan di teng...</td>\n",
              "      <td>[[276, 281, B-COM], [286, 292, I-COM], [4325, ...</td>\n",
              "    </tr>\n",
              "    <tr>\n",
              "      <th>7</th>\n",
              "      <td>299</td>\n",
              "      <td>barat indra darmawan 47 mampu menyulap eceng g...</td>\n",
              "      <td>[[39, 44, B-COM], [45, 51, I-COM], [94, 101, B...</td>\n",
              "    </tr>\n",
              "    <tr>\n",
              "      <th>8</th>\n",
              "      <td>300</td>\n",
              "      <td>aquaponik adalah penggabungan budidaya ikan da...</td>\n",
              "      <td>[[39, 43, B-COM], [48, 55, B-COM]]</td>\n",
              "    </tr>\n",
              "    <tr>\n",
              "      <th>9</th>\n",
              "      <td>301</td>\n",
              "      <td>sudah sejak lama ekstrak mahkota dewa dikenal ...</td>\n",
              "      <td>[[289, 299, B-LOC], [500, 504, B-COM], [505, 5...</td>\n",
              "    </tr>\n",
              "    <tr>\n",
              "      <th>10</th>\n",
              "      <td>302</td>\n",
              "      <td>euy kata itu yang menggambarkan proses bercoco...</td>\n",
              "      <td>[[179, 186, B-LOC], [164, 173, B-LOC], [146, 1...</td>\n",
              "    </tr>\n",
              "    <tr>\n",
              "      <th>11</th>\n",
              "      <td>303</td>\n",
              "      <td>dari program urbanisasi pria ini datang ke jak...</td>\n",
              "      <td>[[43, 50, B-LOC], [1817, 1822, B-COM], [1724, ...</td>\n",
              "    </tr>\n",
              "    <tr>\n",
              "      <th>12</th>\n",
              "      <td>304</td>\n",
              "      <td>di kota pasuruan berhasil menerapkan urban far...</td>\n",
              "      <td>[[8, 16, B-LOC], [115, 122, B-COM], [123, 130,...</td>\n",
              "    </tr>\n",
              "    <tr>\n",
              "      <th>13</th>\n",
              "      <td>305</td>\n",
              "      <td>teknologi listrik tenaga matahari mulai memasy...</td>\n",
              "      <td>[[126, 133, B-LOC], [296, 303, B-LOC]]</td>\n",
              "    </tr>\n",
              "    <tr>\n",
              "      <th>14</th>\n",
              "      <td>306</td>\n",
              "      <td>kegiatan berkebun makin diminati di masa pande...</td>\n",
              "      <td>[[201, 204, B-LOC], [205, 212, I-LOC], [299, 3...</td>\n",
              "    </tr>\n",
              "    <tr>\n",
              "      <th>15</th>\n",
              "      <td>307</td>\n",
              "      <td>kelurahan duren tiga jakarta selatan memanfaat...</td>\n",
              "      <td>[[10, 15, B-LOC], [16, 20, I-LOC], [21, 28, B-...</td>\n",
              "    </tr>\n",
              "    <tr>\n",
              "      <th>16</th>\n",
              "      <td>308</td>\n",
              "      <td>ada yang unik dari gang hijau atau gang mede d...</td>\n",
              "      <td>[[58, 68, B-LOC], [69, 72, I-LOC], [73, 80, B-...</td>\n",
              "    </tr>\n",
              "  </tbody>\n",
              "</table>\n",
              "</div>"
            ],
            "text/plain": [
              "     id  ...                                              label\n",
              "0   292  ...                                [[199, 203, B-COM]]\n",
              "1   293  ...  [[1594, 1599, B-COM], [1611, 1614, B-LOC], [16...\n",
              "2   294  ...  [[78, 86, B-COM], [92, 99, B-COM], [25, 29, B-...\n",
              "3   295  ...  [[129, 133, B-COM], [56, 60, B-COM], [218, 222...\n",
              "4   296  ...  [[193, 197, B-COM], [198, 202, I-COM], [236, 2...\n",
              "5   297  ...  [[0, 4, B-COM], [63, 67, B-COM], [68, 72, I-CO...\n",
              "6   298  ...  [[276, 281, B-COM], [286, 292, I-COM], [4325, ...\n",
              "7   299  ...  [[39, 44, B-COM], [45, 51, I-COM], [94, 101, B...\n",
              "8   300  ...                 [[39, 43, B-COM], [48, 55, B-COM]]\n",
              "9   301  ...  [[289, 299, B-LOC], [500, 504, B-COM], [505, 5...\n",
              "10  302  ...  [[179, 186, B-LOC], [164, 173, B-LOC], [146, 1...\n",
              "11  303  ...  [[43, 50, B-LOC], [1817, 1822, B-COM], [1724, ...\n",
              "12  304  ...  [[8, 16, B-LOC], [115, 122, B-COM], [123, 130,...\n",
              "13  305  ...             [[126, 133, B-LOC], [296, 303, B-LOC]]\n",
              "14  306  ...  [[201, 204, B-LOC], [205, 212, I-LOC], [299, 3...\n",
              "15  307  ...  [[10, 15, B-LOC], [16, 20, I-LOC], [21, 28, B-...\n",
              "16  308  ...  [[58, 68, B-LOC], [69, 72, I-LOC], [73, 80, B-...\n",
              "\n",
              "[17 rows x 3 columns]"
            ]
          },
          "metadata": {},
          "execution_count": 136
        }
      ]
    },
    {
      "cell_type": "code",
      "metadata": {
        "id": "fBIpGw1Azs6r"
      },
      "source": [
        "ner_spacy_fmt_datasets = []\n",
        "list_inside = []\n",
        "dicty = []\n",
        "inside = []\n",
        "a_dictionary = {\"entities\":[]}\n",
        "for i in range(len(data)):\n",
        "  # a_dictionary[\"entities\"].append(data['label'][i])\n",
        "  list_inside.append(data['data'][i])\n",
        "  dicty.append({\"entities\":data['label'][i]})\n",
        "  ner_spacy_fmt_datasets.append([list_inside[i],dicty[i]])\n",
        "\n",
        "# inside.extend([list_inside,dicty])  \n",
        "# ner_spacy_fmt_datasets.append(list_inside)"
      ],
      "id": "fBIpGw1Azs6r",
      "execution_count": 177,
      "outputs": []
    },
    {
      "cell_type": "code",
      "metadata": {
        "colab": {
          "base_uri": "https://localhost:8080/"
        },
        "id": "mfOT18jtBrPc",
        "outputId": "7d7176b6-8e8e-41b0-c6af-9ac35c44545e"
      },
      "source": [
        "ner_spacy_fmt_datasets"
      ],
      "id": "mfOT18jtBrPc",
      "execution_count": 183,
      "outputs": [
        {
          "output_type": "execute_result",
          "data": {
            "text/plain": [
              "[['di perkotaan dengan lahan yang terbatas sering menjadi alasan banyak orang enggan bercocok tanam namun dengan akuaponik anda dapat memaksimalkan lahan yang ada untuk bercocok tanam bahkan memelihara ikan untuk dikonsumsi seharihari akuaponik adalah sistem produksi pangan yang terdiri dari dua bagian utama yakni akuatik dan hidroponik dok reportase trans tv',\n",
              "  {'entities': [[199, 203, 'B-COM']]}],\n",
              " ['farming menjadi tren dan kegiatan baru yang digemari banyak orang terutama di daerah perkotaan salah satunya dikarenakan pandemi covid19 serta kebijakan work from home wfh membuat orangorang lebih banyak berada di rumah dan mencari aktivitas baru agar tidak merasa bosan direktur jenderal hortikultura prihasto setyanto melihat urban farming setahun belakangan ini sebagai fenomena yang luar biasa dirinya menyatakan bahwa sejak urban farming menjadi tren penjualan benih hortikultura meningkat hingga lima kali lipat pandemi dan wfh membuat orang memiliki aktivitas baru di rumah seperti urban farming dengan menanam hidroponik di rumah ini adalah fenomena luar biasa kami memantau penjualan benih sejak tren ini berlangsung dan ternyata benih horti meningkat hingga lima kali lipat ujar pria yang akrab disapa anton ini dalam keterangan tertulis kamis 1122021 selain tanaman sayuran lanjutnya tanaman hias juga berperan sangat signifikan pada tren urban farming peminatnya meningkat bahkan sampai memunculkan petanipetani tanaman hias dari generasi milenial yang sukses tidak hanya itu anton turut memaparkan ekspor tanaman hias naik hingga tiga kali lipat pada 2019 ekspor tanaman hias berada di angka 105 juta pieces sementara pada november 2020 meningkat di angka 333 juta pieces animo masyarakat sangat tinggi dan ini merupakan dukungan untuk pertanian indonesia terutama subsektor hortikultura tambahnya sebagai salah satu bentuk apresiasi kementan terhadap urban farming pada tahun anggaran 2020 ditjen hortikultura telah meluncurkan kegiatan urban farming dengan menyebarkan penanaman cabai di wilayah dki jakarta seluas 47 hektare yang dimanfaatkan oleh 71 kt dan bawang merah seluas 2 hektare yang ditanam di wilayah angkatan udara halim perdana kusuma bantuan yang diberikan berupa benih cabai benih bawang merah pupuk organik dan pengendali opt ramah lingkungan likat kuning mengenai kebijakan urban farming anton menjelaskan kementan di bawah arahan menteri pertanian syahrul yasin limpo syl memiliki program pengembangan kampung hortikultura program ini tidak hanya menyasar lahan hamparan yang sudah ada tetapi juga petani dengan lahan sempit mengapa dinamakan kampung supaya terkonsentrasi dan terfokus kita fokuskan di desadesa dengan salah satu sasaran petani lahan sempit jadi 10 hektare bukan hanya hamparan saja jelas anton kampung hortikultura mengusung konsep one village one variety ovov komoditas yang dikembangkan akan disesuaikan dengan agroekosistemnya kemudian kampung tersebut akan dibantu benih unggul pengendalian opt serta sarana dan prasarana dengan tetap memperhatikan sisi ramah lingkungan melalui program kampung hortikultura anton berharap mampu meningkatkan kesejahteraan para petani dengan produktivitas hasil yang tinggi dan pengembangannya menjadi area agro edu wisata sebagai informasi urban farming merupakan usaha pertanian di perkotaan dengan memanfaatkan lahanlahan terbuka yang ada di sekitar masyarakat luas lahan yang digunakan ratarata seluas 550 m2 komoditas yang umum diusahakan adalah tanaman yang berumur pendek seperti aneka sayuran daun dan buah tanaman obat serta tanaman hias turut hadir dalam fgd ini artis dan pegiat aquaponik mark sungkar dosen ipb dan pakar urban farming hadi deddy soesilo penyuluh pertanian dinas pertanian karawang ajud tajrudin artis dan pegiat pangan organik melly manuhutu staf ahli mentan bidang infrastruktur pertanian 20152018 ani andayani praktisi hidroponik suci puji suryani dan plt kepala dinas kpkp provinsi dki jakarta suharini eliawati',\n",
              "  {'entities': [[1594, 1599, 'B-COM'],\n",
              "    [1611, 1614, 'B-LOC'],\n",
              "    [1615, 1622, 'I-LOC'],\n",
              "    [1674, 1680, 'B-COM'],\n",
              "    [1681, 1686, 'I-COM'],\n",
              "    [1800, 1805, 'B-COM'],\n",
              "    [1812, 1818, 'B-COM'],\n",
              "    [1819, 1824, 'I-COM'],\n",
              "    [3082, 3089, 'B-COM'],\n",
              "    [3090, 3094, 'I-COM'],\n",
              "    [3099, 3103, 'B-COM'],\n",
              "    [3104, 3111, 'B-COM'],\n",
              "    [3112, 3116, 'I-COM'],\n",
              "    [3123, 3130, 'B-COM'],\n",
              "    [3131, 3135, 'I-COM']]}],\n",
              " ['melihat orang memelihara ikan lele di dalam ember lalu di atasnya ada tanaman kangkung atau sayuran lain jika iya ini dia penemunya adalah juli nursandi yang merupakan seorang dosen budi daya perikanan di politeknik negeri lampung budi daya ikan dalam ember budikdamber ini ia teliti sejak 2015 lalu saat itu ia memikirkan bagaimana caranya memelihara ikan dengan sistem yang portabel atau mudah dipindahpindah budikdamber ini adalah salah satu produk urban farming karena ini adalah praktik budi daya proses dan distribusi bahan pangan yang berada di sekitar kota biasanya juga melibatkan peternakan budi daya perairan wanatani dan hortikultura urban farming ini merupakan seluruh sistem produksi pangan yang terjadi di kota kalau untuk buah kan sudah ada tanaman buah dalam pot tabulampot jadi waktu itu saya terpikir bagaimana caranya kalau perikanan portabel juga jadi bisa digotonggotong disimpan di atap dan bahannya mudah ada di seluruh indonesia yaitu ember ujar dia saat berbincang dengan detikcom akhir pekan ini juli menjelaskan ia mulai melakukan penelitian pertama dan berkreasi pada 2015 ia mulai membesarkan ikan lele berukuran kecil dan di atas ember ditanami dengan kangkung yang menggunakan gelas plastik masyarakat menyambut baik hasil penelitiannya tersebut sebenarnya budikdamber ini merupakan sistem aquaponik yang sederhana jadi budi daya ikan dengan tanaman ikannya dikasih makan pelet yang nanti kotorannya terurai dan menjadi pupuk untuk tanaman ini lebih ringkas dibanding akuaponik luar negeri yang membutuhkan pompa air kata dia menurut juli ia ingin membuat budi daya menjadi lebih ringkas dan bisa digunakan oleh seluruh elemen masyarakat selain itu budikdamber ini juga bisa dibawa ke pegunungan atau ke tengah laut misalnya untuk keperluan nelayan saat berlayar sehingga para nelayan juga bisa menikmati ikan air tawar dan sayuran meskipun sedang berada di tengah laut juli mengatakan penelitiannya terus berlanjut dengan pengembangan jenis tanaman baru yang bisa dibudi dayakan di atas ember misalnya ada sawi kemangi tomat ceri ketimun melon sampai strawberry lanjut ke halaman berikutnya selain lele budikdamber ini juga bisa memelihara ikan patin sepat betok gurame sampai gabus ikan ini merupakan jenis yang tahan dengan oksigen rendah karena tidak menggunakan airator juli juga saat ini sedang mengembangkan budi daya ikan hias dengan metode budikdamber dia menjelaskan saat ini banyak masyarakat yang mengalami kegagalan saat mencoba metode budikdamber misalnya ikan banyak yang mati tibatiba hal tersebut terjadi karena tidak ada perhitungan saat memberikan makan ke lele lele itu kan ikan yang rakus dia rebutannya kencang sekali walau sudah kenyang dia tetap rebutan jadi kalau kebanyakan itu bisa jadi amonia banyak gas beracun di dasar embernya karena itu harus disedot dan diganti airnya ujarnya menurut juli orang yang memelihara juga harus memiliki jadwal pemberian pakan hingga perhitungan penyedotan air biasanya 34 hari bisa dilakukan penggantian untuk makanan lele masyarakat sebenarnya bisa menggunakan yang ada di sekitar rumah seperti keong emas hingga cacing namun menurut juli saat ini yang paling mudah didapatkan adalah pelet juli tidak mematok jumlah ember untuk orangorang yang ingin mencoba budi daya menggunakan ember ini dia menyebut satu ember pun bisa digunakan jika ingin memulai misalnya nih cuma punya satusatunya ember di dunia itu bisa juga teorinya 1 liter air bisa menghidupi 1 ekor ikan jadi kalau embernya 80 liter bisa lah diisi 6070 ekor ikan karena harus ada sisa ya jangan diisi semua supaya tidak mudah loncat ikannya jelas dia dalam membudi dayakan lele dengan satu ember biasanya usia 115 bulan akan ada lele yang pertumbuhannya sangat cepat dibandingkan yang lain untuk mengatasinya ikan lele yang ukurannya besar bisa diambil untuk dikonsumsi hal ini agar tidak terjadi kanibal sesama lele dia menyebutkan memang budi daya ikan dalam ember ini pasti memiliki peluang bisnis dan ekonomi untuk masyarakat namun selain itu ada beberapa tahapan yang bisa dilewati misalnya pertama secara ekologi dengan mulai memelihara ikan dan menanam di atas ember akan menciptakan ruang terbuka hijau dan menghasilkan oksigen selain itu air limbah yang dihasilkan juga bisa menyuburkan tanah selanjutnya manfaat sosial juga bisa didapatkan dari budikdamber ini dia menceritakan memelihara lele di ember ini bisa membuat ketahanan pangan keluarga kemudian baru masuk ke sisi ekonomi yang membutuhkan kreatifitas dari para pembudi daya kalau dari sisi ekonominya tergantung dari kreativitas temanteman saja bisa saja menanam untuk dijual lagi atau juga bisa jual jasa pembuatan embernya atau mengajukan pembuatan pelatihan di rt sampai rw setempat bisa jadi konsultan lah istilahnya dan ini bernilai ekonomi jelas dia dalam meneliti budikdamber ini juli mengaku ini adalah proyek sedekah dan hibah untuk masyarakat indonesia ia juga tidak mematenkan hasil temuannya ini temanteman saya kesal dengan saya kenapa nggak dipatenkan nanti diambil orang ya nanti saya tagih di akhirat saja saya berbagi ilmu ini gratis saya akan memikirkan yang lebih tinggi lagi nantinya ujarnya',\n",
              "  {'entities': [[78, 86, 'B-COM'],\n",
              "    [92, 99, 'B-COM'],\n",
              "    [25, 29, 'B-COM'],\n",
              "    [30, 34, 'I-COM'],\n",
              "    [241, 245, 'B-COM'],\n",
              "    [352, 356, 'B-COM'],\n",
              "    [1123, 1127, 'B-COM'],\n",
              "    [1128, 1132, 'I-COM'],\n",
              "    [1183, 1191, 'B-COM'],\n",
              "    [1362, 1366, 'B-COM'],\n",
              "    [1382, 1389, 'B-COM'],\n",
              "    [1837, 1841, 'B-COM'],\n",
              "    [1842, 1845, 'I-COM'],\n",
              "    [1846, 1851, 'I-COM'],\n",
              "    [1856, 1863, 'B-COM'],\n",
              "    [2039, 2043, 'B-COM'],\n",
              "    [2044, 2051, 'B-COM'],\n",
              "    [2052, 2057, 'B-COM'],\n",
              "    [2058, 2062, 'B-COM'],\n",
              "    [2063, 2070, 'B-COM'],\n",
              "    [2071, 2076, 'B-COM'],\n",
              "    [2084, 2094, 'B-COM'],\n",
              "    [2131, 2135, 'B-COM'],\n",
              "    [2173, 2177, 'B-COM'],\n",
              "    [2178, 2183, 'I-COM'],\n",
              "    [2184, 2189, 'B-COM'],\n",
              "    [2190, 2195, 'B-COM'],\n",
              "    [2196, 2202, 'B-COM'],\n",
              "    [2210, 2215, 'B-COM'],\n",
              "    [2216, 2220, 'B-COM'],\n",
              "    [2362, 2366, 'I-COM'],\n",
              "    [2357, 2361, 'B-COM'],\n",
              "    [2502, 2506, 'B-COM'],\n",
              "    [2608, 2612, 'B-COM'],\n",
              "    [2613, 2617, 'B-COM'],\n",
              "    [2626, 2630, 'B-COM'],\n",
              "    [3012, 3016, 'B-COM'],\n",
              "    [3108, 3114, 'B-COM'],\n",
              "    [3090, 3095, 'B-COM'],\n",
              "    [3096, 3100, 'I-COM'],\n",
              "    [3456, 3460, 'B-COM'],\n",
              "    [3515, 3519, 'B-COM'],\n",
              "    [3590, 3597, 'B-COM'],\n",
              "    [3630, 3634, 'B-COM'],\n",
              "    [3686, 3690, 'B-COM'],\n",
              "    [3766, 3770, 'B-COM'],\n",
              "    [3771, 3775, 'I-COM'],\n",
              "    [3869, 3873, 'B-COM'],\n",
              "    [3907, 3911, 'B-COM'],\n",
              "    [4100, 4104, 'B-COM'],\n",
              "    [4356, 4360, 'B-COM']]}],\n",
              " ['kelompok wanita tani kwt berkah membudidayakan 40 kolam lele dengan sistem aquaponik budidaya tersebut mampu menghasilkan 100 kg lele setiap minggunya pengurus kelompok wanita tani kwt berkah memelihara kolam budidaya lele dengan sistem aquaponik di kampung ramah lingkungan mutiara bogor raya katulampa kota bogor jawa barat rabu 9122020',\n",
              "  {'entities': [[129, 133, 'B-COM'],\n",
              "    [56, 60, 'B-COM'],\n",
              "    [218, 222, 'B-COM'],\n",
              "    [283, 288, 'B-LOC'],\n",
              "    [294, 303, 'B-LOC'],\n",
              "    [309, 314, 'B-LOC'],\n",
              "    [289, 293, 'I-LOC'],\n",
              "    [315, 319, 'B-LOC'],\n",
              "    [320, 325, 'I-LOC']]}],\n",
              " ['teknik penggabungan dari aquakultur dan hidroponik ini makin marak dimanfaatkan oleh orang untuk mulai bercocok tanam memanfaatkan sistem sirkulasi air yang ada pekerja merawat tangki budidaya ikan nila di ndarufarm batujajar kabupaten bandung barat jawa barat rabu 872020',\n",
              "  {'entities': [[193, 197, 'B-COM'],\n",
              "    [198, 202, 'I-COM'],\n",
              "    [236, 243, 'B-LOC'],\n",
              "    [244, 249, 'I-LOC'],\n",
              "    [250, 254, 'B-LOC'],\n",
              "    [255, 260, 'I-LOC']]}],\n",
              " ['ayam dan daging sudah populer yang ini sate dibuat dari daging ikan lele khas ponorogo kayak apa ya rasanya ponorogo terkenal dengan sate ayam yang mantap karena potongan daging ayamnya besar dilumuri saus kacang yang gurih pedas tetapi henri wiratsongko dari ponorogo membuat sate dari daging ikan lele henri memanfaatkan ikan lele yang diternakkan dalam kolam aquaponik selain lebih bersih ikan lele peliharaannya berukuran jumbo dengan daging tebal ada puluhan ikan lele jumbo bobotnya sekitar 1 kilogram di kolam kalau saya jual ikan saja harganya murah di pasaran akhirnya saya dan istri berinisiatif menjual sate lele tutur henri kepada detikcom minggu 2642020 cara membuatnya pun mudah pertama ikan lele dipisahkan antara daging dan durinya dengan cara fillet kemudian dagingnya dipotongpotong bentuk dadu dan ditusuk menggunakan tusuk bambu seperti sate pada umumnya setelah itu lele dicelupkan pada bumbu yang telah disiapkan kemudian dipanggang memanggangnya menggunakan papan batu di atas kompor beda dengan lele yang dibakar langsung di atas bara api jelas henri hal ini dilakukan agar daging lele tidak mudah rusak dan tetep utuh saat dihidangkan setelah matang sate lele kemudian disiram dengan bumbu kecap dan sambal kacang seperti halnya sate ayam pada umumnya untuk satu porsi dihargai rp 13 ribu per 10 tusuk kita juga jual paket hemat satu porsi 5 tusuk sate dan satu gelas teh seharga rp 15 ribu jelas henri jika ingin menikmati sate lele buatan henri bisa mengunjungi warungnya di jalan tangkuban perahu 9c kelurahan nologaten saat pandemi corona ini saya juga jual dengan sistem online supaya bisa langsung take away tandas henri sementara salah satu penikmat sate pramita kusumaningrum mengaku sate lele ini cocok sebagai salah satu menu buka puasa ada sensasi rasa lembut dan halus dari potongan ikan lele yang enak saat dikunyah rasanya lembut enak beda dengan sate ayam dan kambing ini paling enak dinikmati saat berbuka puasa bersama keluarga pungkas pramita',\n",
              "  {'entities': [[0, 4, 'B-COM'],\n",
              "    [63, 67, 'B-COM'],\n",
              "    [68, 72, 'I-COM'],\n",
              "    [78, 86, 'B-LOC'],\n",
              "    [108, 116, 'B-LOC'],\n",
              "    [138, 142, 'B-COM'],\n",
              "    [178, 185, 'B-COM'],\n",
              "    [260, 268, 'B-LOC'],\n",
              "    [294, 298, 'B-COM'],\n",
              "    [299, 303, 'I-COM'],\n",
              "    [323, 327, 'B-COM'],\n",
              "    [328, 332, 'I-COM'],\n",
              "    [392, 396, 'B-COM'],\n",
              "    [397, 401, 'I-COM'],\n",
              "    [464, 468, 'B-COM'],\n",
              "    [469, 473, 'I-COM'],\n",
              "    [533, 537, 'B-COM'],\n",
              "    [619, 623, 'B-COM'],\n",
              "    [701, 705, 'B-COM'],\n",
              "    [706, 710, 'I-COM'],\n",
              "    [887, 891, 'B-COM'],\n",
              "    [1019, 1023, 'B-COM'],\n",
              "    [1180, 1184, 'B-COM'],\n",
              "    [1105, 1109, 'B-COM'],\n",
              "    [1259, 1263, 'B-COM'],\n",
              "    [1454, 1458, 'B-COM'],\n",
              "    [1538, 1547, 'B-LOC'],\n",
              "    [1722, 1726, 'B-COM'],\n",
              "    [1825, 1829, 'B-COM'],\n",
              "    [1891, 1895, 'B-COM'],\n",
              "    [1900, 1907, 'B-COM']]}],\n",
              " ['dunia butuh lebih banyak sumber pangan di tengah krisis politik ekonomi dan sosial tahun 60an di sanalah revolusi hijau muncul sebagai penyelamat sejarah dunia mencatat akselerasi produksi dan distribusi pangan pada era tersebut 19602000 terutama komoditas bijibijian seperti beras dan gandum kombinasi upaya intensifikasi pertanian masif melalui digenjotnya investasi ekspansi area dan mekanisasi pertanian serta aplikasi pupuk sintetis dan varietas bibit unggul high yielding varieties hvy dilakukan demi mendongkrak produksi pangan dunia evenson and gollin 2003 shiva 1993 dari segi kapasitas tentu terjadi peningkatan produksi pangan dari usahausaha tersebut tapi dari aspek lingkungan hidup era ini telah mewariskan dampak hilangnya keanekaragaman hayati dan degradasi kualitas lingkungan yang serius ekspansi lahan pertanian yang dilakukan selama era revolusi hijau semakin menggerus area hijau dan daerah resapan sampai dengan tahun 2005 tercatat ada 41 negara tropis dunia yang mengalami deforestasi akut karena praktik konversi lahan secara masif defries et al 2010 kualitas tanah pun merosot akibat penggunaan penggunaan pupuk sintetis dan pestisida berlebihan demikian pula dengan cadangan air tanah menipis akibat eksploitasi pertanian hingga 2017 organisasi pangan dunia fao mencatat 70 air tanah dunia tersedot untuk usaha pertanian persentase itu meningkat hingga 90 di daerah minim hujan meskipun puncak revolusi hijau tersebut telah berlalu berbagai inovasi pertanian terus dikembangkan manusia untuk mengimbangi kecepatan populasi mengimbangi kecepatan urbanisasi sejak tahun 2010 muncullah harapan akan sumber produksi pangan baru yang cukup menjanjikan pengembangan sistem pertanian perkotaan inovatif innovative urban farming mulai marak secara global perkawinan inovasi teknologi pertanian terkini dengan optimalisasi area urban melahirkan praktikpraktik urban farming skala kecil sebagai lifestyle baru skala medium kebun pangan komunitas hingga skala komersial pabrik sayuran di tengah kota sebut saja misalnya inovasi teknik pertanian dalam ruang indoor farming pertanian vertikal pertanian tanpa tanah hidroponik aeroponik aquaponik hingga pertanian presisi yang melibatkan automatisasi mutakhir secara umum sistem pertanian perkotaan ini dipandang lebih ramah lingkungan inovasinya membuat aspek perawatan dan sumber daya yang dipakai menjadi minimalis namun menghasilkan panen yang maksimalis di tingkat global 2010 menandai munculnya industri pertanian perkotaan inovatif di beberapa negara di dunia armanda et al 2019 sistem pertanian perkotaan inovatif telah mengubah cara orang dalam memproduksi pangan sebuah lompatan atau revolusi dalam meningkatkan sumber produksi pangan baru inilah penanda datangnya revolusi hijau kedua revolusi untuk pemenuhan kebutuhan pangan masa depan dengan mendekatkan lokasi produksi langsung kepada konsumen yaitu mayoritas populasi dunia masyarakat urban revolusi akan sistem pertanian yang lebih efektif efesien dan dianggap ramah lingkungan namun apakah sistem pertanian perkotaan ini bisa berkontribusi signifikan dalam menciptakan ketahanan pangan dunia atau hanya sekadar mendemontrasikan lompatan teknologi dalam ruang laboratorium tanpa mampu mewujudkan hasil riil dalam pemenuhan kebutuhan pangan global untuk menjawab pertanyaan tersebut saya telah meneliti 18 sampel pertanian perkotaan inovatif komersial yang tersebar di asia amerika eropa saya mencoba mengkompilasi data produksi dari praktisi sistem pertanian inovatif tersebut data yang ada lalu ditelaah dikomparasi divalidasi dan diambil kesimpulannya kontribusi pertanian perkotaan setidaknya ada empat hal yang dapat dikaji untuk melihat signifikansi kontribusi sistem pertanian inovatif dalam program ketahanan pangan pertama jumlah potensial produksi global penelitian zezza dan tascioti 2010 di 15 negara berkembang mencatat proporsi pertanian perkotaan dalam sistem pertanian secara keseluruhan persentasenya variatif mulai 3 sampai dengan 27 sedangkan hasil panennya bisa mencapai 50 kilogram per meter persegi sementara di negara maju seperti pertanian aerofarm di new jersey as hasil panennya bahkan mencapai 140 kilogram per meter persegi orsini et al 2013 jika membandingkan produktivitas pertanian perkotaan dengan konvensional hasilnya cukup menggembirakan teknik hidroponik untuk selada misalnya menghasilkan panen 11 kali lebih banyak per hektarnya barbosa et al 2015 sementara dalam sistem rumah kaca panen stroberi 13 kali lebih banyak per hektarnya khoshnevisan et al 2013 sedangkan tomat 15 kalinya martinezblanco et al 2011 kebanyakan dari studi tersebut sangat tergantung situasi dan kondisi spesifik lokasi teknologi syarat dan jenis tanaman sehingga tidak dapat digeneralisasi namun itu saja sudah dapat memberikan kita gambaran bagaimana besarnya potensi jumlah produksi hasil sistem pertanian perkotaan inovatif ini kedua cakupan hasil produk saat ini memang produk holtikultura sayuran dan buah masih mendominasi hasil pertanian perkotaan karena perawatannya yang mudah praktis dan cepat panen tapi kini tanaman sumber karbohidrat mulai diuji coba ditumbuhkan di perkotaan bahkan diversifikasi pun sudah merambat ke hasil produk sumber protein hewani yakni dengan teknik aquaponik yang menggabungkan produksi hortikultura dan perikanan dalam catatan fao 2007 hasil pertanian perkotaan memenuhi 10100 kebutuhan sayuran penduduk urban kontribusi di negara berkembang lebih besar angkanya dibandingkan di negara maju fao 2014 ketiga daerah pertanian potensial luasan daerah pertanian perkotaan semakin meningkat khususnya di negaranegara maju hasil studi polling et al 2016 di sebuah kota metropolitan di jerman contohnya luas lahan pertanian perkotaannya mencapai 33 dari luas wilayah kota namun yang paling menjanjikan adalah optimasi lahan vertikal untuk perluasan pertanian perkotaan contohnya skyfarm sebuah pertanian aeroponik rumah kaca vertikal setinggi 20 lantai yang menempati total lahan 1 hektar germer et al 2011 per tahunnya skyfarm mampu memproduksi 200 kali lipat bijih beras hampir 900 mg dibandingkan dengan produsen beras reguler paling produktif di mesir sekitar 8 mg selain itu lahan pertanian perkotaan juga bisa memanfaatkan area rooftop gedung bangunan yang terbengkalai atau ruang bawah tanah sehingga tidak memakan banyak lahan terbuka seperti halnya pertanian konvensional keempat jumlah potensial praktisi pertanian perkotaan inovatif data tentang jumlah pasti praktisi sistem pertanan ini masih sumir namun menurut armarklemesu 2001 diperkirakan ada 800 juta petani urban secara global 100 sampai dengan 200 juta diantaranya memproduksi sayuran segar untuk pasar pada tahun 2000 sedangkan jumlah praktisi pertanian perkotaan di 15 negara berkembang yang diteliti zezza dan tascioti 2010 bervariasi prosentasenya dari 11 hingga 69 dari berbagai potensi di atas dapat disimpulkan bahwa kombinasi pertanian perkotaan inovatif dalam berbagai skala praktik kecil menengah maupun komersial mampu mendukung tiga dimensi ketahanan pangan yakni ketersediaan pangan akses pangan dan pemanfaatan pangan pertanian skala kecil dan menengah mampu memproduksi sejumlah sayuran untuk pasar lokal sedangkan pertanian skala medium dan komersial dapat dikembangkan untuk melengkapi pemenuhan kebutuhan nasional atau bahkan global meskipun masih diperdebatkan sistem pertanian inovatif juga berpotensi berkontribusi pada stabilitas pangan termasuk keamanan pangan yaitu dengan mengurangi ketergantungan pada rantai penyediaan pangan yang panjang dan kurang berkembang poorly developed food value chains dari produsen di pedesaan ke konsumen di perkotaan jadi tak berlebihan jika kita katakan sistem pertanian perkotaan inovatif telah meretas jalan menuju revolusi hijau kedua mengemban misi suci terutama sustainable development goals nomor 2 melenyapkan kelaparan dari muka bumi dian armanda staf pengajar biologi di fakultas sains dan teknologi universitas islam negeri uin walisongo semarang sedang menempuh program doktoral di institute of environmental sciences cml leiden university belanda',\n",
              "  {'entities': [[276, 281, 'B-COM'],\n",
              "    [286, 292, 'I-COM'],\n",
              "    [4325, 4331, 'B-COM'],\n",
              "    [4454, 4462, 'B-COM'],\n",
              "    [4532, 4537, 'B-COM'],\n",
              "    [4935, 4942, 'B-COM'],\n",
              "    [4947, 4951, 'B-COM'],\n",
              "    [5367, 5374, 'B-COM'],\n",
              "    [6040, 6045, 'B-COM'],\n",
              "    [6089, 6094, 'B-COM'],\n",
              "    [6620, 6627, 'B-COM'],\n",
              "    [7137, 7144, 'B-COM']]}],\n",
              " ['barat indra darmawan 47 mampu menyulap eceng gondok produk yang bernilai ekonomis ia mengubah tanaman gulma di perairan itu menjadi tas dan aneka kerajinan lainnya sejauh ini eceng gondok yang ada diangkut saja dari sungai dan dibuang padahal bisa diberdayakan dan diproses kata indra jumat 2962019 ia melihat tak ada satu pun yang siasia tercipta di alam ini termasuk eceng gondok yang selama ini dipandang sebagai salah satu penyebab kian mendangkalnya sungai citarum eceng gondok disulap jadi produk bernilai jual foto yudha maulanadetikcom kalau akarnya semakin panjang ke tanah bisa terjadi sedimentasi di samping itu eceng gondok juga menyerap oksigen di dalam air dan menutupi cahaya matahari sehingga ikan dan makhluk hidup lainnya bisa terancam kata indra kendati demikian katanya eceng gondok memiliki fungsi menyerap racun yang berada di dalam air sehingga tanaman ini jangan dimusnahkan tapi harus dikendalikan penyebarannya ia pun kemudian menjalankan pembuatan tas dari eceng gondok dengan melibatkan masyarakat sekitar yang ia beri pelatihan sebelumnya alhasil usaha ini berbuah manis dari eceng gondok ini bisa dibuat berbagai kerajinan seperti tas satu tas ini bisa dijual dengan harga rp 50 ribu hingga rp 150 ribu katanya dalam sebulan bisa diproduksi 100200 buah tas eceng gondok yang dijual secara online atau offline dalam sebulan bisa mendapat lebih dari rp 10 juta katanya eceng gondok disulap jadi produk bernilai jual foto yudha maulanadetikcom tak hanya tas eceng gondok juga disulap menjadi sepatu tempat tisu bahkan meja kerajinan dari eceng gondok ini merupakan salah satu upaya untuk melestarikan sungai citarum yang dilakukan indra bersama yayasan bening saguling foundation kami ingin masyarakat lebih peduli dengan citarum kami berdayakan masyarakat dan citarum lebih lestari katanya ia pun rutin memberikan sosialisasi dan berbagai pelatihan bahkan warga mancanegara yang ingin belajar membuat kerajinan dari eceng gondok juga ia layani eceng gondok disulap jadi produk bernilai jual foto yudha maulanadetikcom zero waste eceng gondok bisa menjadi atap tempelan bilik bambu dan juga pot untuk tanaman aquaponik ujar indra tidak hanya itu pihaknya memiliki saung bambu yang salah satu bahannya menggunakan eceng gondok lembaga pemberdayaan yang diinisiasi sejak 2014 ini terus berkembang hingga akhirnya tercipta sekolah alam sekolah alam ini untuk tingkat tk dan smp anakanak diajarkan untuk produktif dan mencintai alam awalnya yang ikut hanya anak pemulung dan keluarga tidak mampu namun sekarang yang umum juga ada dan yang mampu harus membayar katanya',\n",
              "  {'entities': [[39, 44, 'B-COM'],\n",
              "    [45, 51, 'I-COM'],\n",
              "    [94, 101, 'B-COM'],\n",
              "    [102, 107, 'I-COM'],\n",
              "    [175, 180, 'B-COM'],\n",
              "    [181, 187, 'I-COM'],\n",
              "    [369, 374, 'B-COM'],\n",
              "    [375, 381, 'I-COM'],\n",
              "    [470, 475, 'B-COM'],\n",
              "    [476, 482, 'I-COM'],\n",
              "    [790, 795, 'B-COM'],\n",
              "    [796, 802, 'I-COM'],\n",
              "    [984, 989, 'B-COM'],\n",
              "    [990, 996, 'I-COM'],\n",
              "    [1105, 1110, 'B-COM'],\n",
              "    [1111, 1117, 'I-COM'],\n",
              "    [1287, 1292, 'B-COM'],\n",
              "    [1293, 1299, 'I-COM'],\n",
              "    [1397, 1402, 'B-COM'],\n",
              "    [1403, 1409, 'I-COM'],\n",
              "    [1485, 1490, 'B-COM'],\n",
              "    [1491, 1497, 'I-COM'],\n",
              "    [1565, 1570, 'B-COM'],\n",
              "    [1571, 1577, 'I-COM'],\n",
              "    [2057, 2062, 'B-COM'],\n",
              "    [2063, 2069, 'I-COM'],\n",
              "    [2240, 2245, 'B-COM'],\n",
              "    [2246, 2252, 'I-COM']]}],\n",
              " ['aquaponik adalah penggabungan budidaya ikan dan sayuran dalam satu tempat untuk memproduksi bahan makanan secara efisien dan berkualitas program ini semakin banyak dilakukan di as meski masih harus dilihat apakah tidak merusak lingkungan dan bisa menguntungkan secara finansial',\n",
              "  {'entities': [[39, 43, 'B-COM'], [48, 55, 'B-COM']]}],\n",
              " ['sudah sejak lama ekstrak mahkota dewa dikenal masyarakat indonesia sebagai produk herbal yang manjur menyembuhkan beragam penyakit namun tak banyak yang jeli melihatnya sebagai peluang bisnis menjanjikan adalah ning harmanto wanita yang lahir dan tumbuh besar di lingkungan tradisional di yogyakarta kini berhasil mengembangkan bisnis farmasi berkat inovasi memanfaatkan ekstrak buah mahkota dewa menjadi berbagai produk herbal yang mudah diterima masyarakat namun siapa sangka ide awal memanfaatkan buah mahkota dewa ini justru muncul bukan untuk kepentingan komersil idenya datang dari keinginan kuat menyembuhkan ibunda tercinta yang kala itu tengah menderita komplikasi penyakit hingga divonis oleh dokter berumur pendek hanya hitungan hari selama mengkonsumsi jamu dari mahkota dewa kondisi ibu berangsur membaik dan bertahan hidup selama 3 tahun hingga akhirnya beliau meninggal pada usia 80 tahun tutur ning memulai kisahnya saat berbincang dengan detikfinance rabu 2482016 dari pengalaman membuat jamu ning harmanto kemudian mengajak rekanrekan yang tak lain adalah tetangga yang tinggal di sekitar rumahnya di rawa badak jakarta utara mendirikan perkumpulan yang diberi nama kelompok wanita tani bunga lili kelompok ini melakukan berbagai kegiatan positif dari mulai menanam meracik hingga mengemas hasil racikan berbagai produk herbal yang bisa diterima masyarakat kelompok ini memiliki keinginan dan keyakinan jamu dapat membantu dan menyembuhkan penyakit yang menurut medis tidak dapat diobati melakukan kegiatan tani di perkotaan tentu bukan perkara gampang keterbatasan lahan sudah barang tentu menjadi kendala yang dihadapi ning dan rekanrekannya keterbatasan lahan tak menghalangi ning menyemai apotek hidup ning lantas menggunakan sistem vertikultur dalam bercocok tanam saking seriusnya ning mengelola kelompok taninya itu ia sempat mendapat bimbingan dari suku dinas pertanian jakarta utara lewat kelompok tani ini juga ning mengembangkan inovasinya dengan melakukan penelitian khasiat lain buah mahkotadewa tak berhenti di situ berbagai kombinasi ramuan dengan tambahan produk herbal lainnya pun mulai dilakukan ning berbekal ratusan buku literatur produk herbal ning semakin giat berinovasi mahkota dewa dikombinasikan dengan tanaman lain seperti sambiloto temu mangga tapak liman temulawak mengkudu bangle sidaguri umbi daun dewa dan banyak tanaman obat lainnya tergantung penyakitnya apa kata ning buah manis yang dipetik adalah juara pertama lomba pekarangan produktif sedki jakarta yang diraih kelompok taninya dalam ajang agro expo 1999 kami semakin semangat untuk menyembuhkan orang dengan ramuan herbal sambung wanita kelahiran 3 mei 1957 tersebut setelah berhasil membantu keluarga dan orang terdekatnya kelompok wanita tani bunga lili ini membangun sebuah klinik yang diberi nama klinik mahkota dewa atau klinik herbal ny ning harmanto pada 3 november 2002 yang sekarang bernama griya sehat mahkota dewa dengan harapan semakin banyak yang dapat dibantu pada 3 januari 2003 akhirnya didirikanlah pt mahkota dewa indonesia sebagai penanda bahwa ia mulai serius melakoni usaha ini sebagai kegiatan komersial saat itu ning hanya bisa mempekerjakan 10 orang pegawai seluruh kegiatan produksi dan operasional dilakukan di bangunan dua lantai di atas lahan seluas 327 meter persegi yang selama ini digunakannya sebagai klinik modal usahanya ketika mendirikan pt mdi diperolehnya dari hasil tabungannya selama menjalankan klinik ditambah pinjaman dari perbankan dasar ning yang tak pernah puas ia pun terus mengembangkan usahanya dengan menambah keandalan dan kualitas produksi usaha yang dirintisnya ini kliniknya telah dilengkapi peralatan medis sederhana dan seorang dokter yang difungsikan untuk melakukan analisis medis sama halnya ketika belum berbentuk pt konsultasi yang diberikan oleh perusahaan ning diberikan secara cumacuma kepada para pasien pasien cukup membayar produk herbal yang dianjurkan oleh kliniknya saja untuk menjaga khasiat dan meningkatkan kualitas produk pt mahkota dewa indonesia melakukan penelitian ilmiah bekerja sama dengan kalangan medis atau dokter peneliti dan juga pusat studi biofarmaka dari penelitian tersebut telah dihasilkan jurnal ilmiah world federation of chinese medicine societies februari 2014 vol 9 februari 2016 vol 11 dan 29 hasil ketekunannya ini pun diganjar dengan sertifikasi internasional gmp good manufacturing product yang artinya kegiatan produksi yang dilakukan ning telah memenuhi standar internasional produknya pun kian dikenal masyarakat luas berita soal khasiat mahkota dewa racikan ning pun menyebar seperti spora bunga yang tertiup angin banyak orang akhirnya bergabung dengan ning dan berperan sebagai reseller di berbagai tempat di indonesia buah manis pun terus dirasakan bisnis ning terus berkembang hingga kini ia bisa mempekerjakan sedikitnya 60 orang karyawan dalam 1 bulan mahkota dewa berhasil menjual 2000 botol dan meraup omzet rp 250 jutarp 300 juta dalam 1 bulan bahkan produk kami sudah sampai mancanegara dan sudah dikonsumsi oleh masyarakat asia dan eropa aku dia namun ning tetap rendah hati menurutnya keberhasilan dirinya tak lepas dari dukungan sang suami harmanto yang rela melepaskan jabatan senior manajer di astra graphia dan membantunya menjalankan bisnis sejak november 2003 dia memutuskan berhenti dari pekerjaannya dan membantu saya tandas dia dnadrk',\n",
              "  {'entities': [[289, 299, 'B-LOC'],\n",
              "    [500, 504, 'B-COM'],\n",
              "    [505, 512, 'I-COM'],\n",
              "    [513, 517, 'I-COM'],\n",
              "    [379, 383, 'B-COM'],\n",
              "    [384, 391, 'I-COM'],\n",
              "    [392, 396, 'I-COM'],\n",
              "    [775, 782, 'B-COM'],\n",
              "    [783, 787, 'I-COM'],\n",
              "    [1124, 1129, 'I-LOC'],\n",
              "    [1119, 1123, 'B-LOC'],\n",
              "    [1130, 1137, 'B-LOC'],\n",
              "    [1138, 1143, 'I-LOC'],\n",
              "    [2268, 2277, 'B-COM'],\n",
              "    [2278, 2282, 'B-COM'],\n",
              "    [2283, 2289, 'I-COM'],\n",
              "    [2290, 2295, 'B-COM'],\n",
              "    [2296, 2301, 'I-COM'],\n",
              "    [2302, 2311, 'B-COM'],\n",
              "    [2312, 2320, 'B-COM'],\n",
              "    [2321, 2327, 'B-COM'],\n",
              "    [2328, 2336, 'B-COM'],\n",
              "    [2337, 2341, 'B-COM'],\n",
              "    [2342, 2346, 'I-COM'],\n",
              "    [2347, 2351, 'I-COM'],\n",
              "    [2363, 2370, 'B-COM'],\n",
              "    [2371, 2375, 'I-COM']]}],\n",
              " ['euy kata itu yang menggambarkan proses bercocok tanam di buaruan sehat alami ekonomis sae p2l riyadhul jannah yang berada di perumahan demarekesh derwati kecamatan rancasari kota bandung tidak membutuhkan sumber daya manusia sdm banyak di lokasi urban farming ini sudah serba menggunakan teknologi dari mulai menyiram sayur yang dikendalikan menggunakan ponsel dan bisa dilakukan dari jarak jauh hingga sumber listrik yang digunakan menggunakan solar cell atau dinamai solar farming dengan menggunakan teknologi terbarukan ini proses bercocok tanam di lokasi urban farming ini lebih efisien dan ramah lingkungan selain itu dapat menghemat persediaan listrik nasional teknolgi solar farming yang diterapkan di lokasi urban farming ini bekerja sama dengan pt surya energi indotama atau anak perusahaan dari pt len kita kolaborasi dengan peningkatan teknologi yang bekerja dengan pt len dan beberapa tenaga ahli dari warga yang memiliki spesifikasi ilmu dan mengaplikasikan dalam pertanian kata dkm masjid riyadhul jannah aston kepada detikcom kamis 14102021 kalau pertanian yang dulu hanya sekedar nyangkul dan semua orang bisa tapi bagaimana teknologi bisa diterapkan sehingga kesannya tuh kita sebut smart farming tambahnya aston mengungkapkan hanya melalui genggaman ponsel jaringan listrik yang menggunakan solar cell dan penyiraman sayuran bisa dilakukan bahkan dilakukan dari jarak jauh asal ponsel kita terhubung ke jaringan internet smart farming itu adalah pengiriman dengan menggunakan teknologi kebetulan yang sudah kita terapkan penyiraman dan pemanfaatan sumber daya energi listrik yang biasanya kita gunakan pln kini menggunakan pembaharuan yaitu panel surya ungkapnya aston menyebut banyak kelebihan yang didapatkan dengan menggunakan solar cell ini salah satunya efisiensi energi listrik kelebihannya efisiensi penggunaan daya yang selama inikan kita gunakan listrik pln kita bisa menghemat tanpa menggunakan daya pln ekonomis dalam penggunaan daya sebutnya meski demikian dengan luasan urban farming yang ada di lokasi masjid ini menurutnya harus ada 5 solar cell yang terpasang agar bisa memenuhi kebutuhan listriknya menghasilkan 250 watt idealnya kapasitas seluruh ini 5 panel karena ini baru prototype dari sisi penerapan teknologi ini bisa tepat guna kita baru menggunakan dengan skup terbatas setelah diaplikasi bisa teruji jika ini berhasil kita akan kerjasama dengan pt len ditambah dayanya sekarang satu buat penyiraman saja dalam radius 20 meter sedangkan kita ada 200 meter kiri kanan jelasnya indra budi utomo salah satu mentor pt len untuk lokasi urban farming ini mengatakan sumber listrik yang digunakan untuk penyiraman secara otomatis ini berasal dari energi matahari panel surya di sini sistemnya hybrid semua dikontrol melalui inverter listrik tenaga matahari masuk ke inverter dan dikonsidikan masuk ke bank batre nah dari bank batre itu ada output 220 volt ini digunakan untuk menggerakkan pompa ada dua pompa dari kolam resensi ke toren dan dari toren ke pompa pendorong untuk menyalurkan air ujar indra indra menuturkan sumber listrik yang dihasilkan dari solar cell ini lebih ekonomis dibandingkan dengan menggunakan listrik pln ini lebih ekonomis daripada naik kabel pln ini bisa diterapkan di mana saja untuk penggunanya ini bisa menjadi percontohan kita manfaatkan kolam regensi dan menggunakan teknologi green energi ini tuturnya indra juga menyebut tidak perlu khawatir jika cuaca mendung karena ada bank batre maka ada sumber listrik yang tersimpan kalau enggak panas contoh seperti ini kita punya safety faktor bank batre sebesar 12 kw di mana pompa sendiri dia kapasitasnya 250 watt sedangkan untuk penyiraman maksimal satu jam artinya itu dari batre sendiri visa kuat 23 hari untuk jalan satu jam per hari misalnya hari ini mendung tapi batre terisi hari kemarin ini tidak masalah paparnya penerapan teknologi di lokasi urban farming diapresiasi wali kota bandung oded m danial itu yang saya sangat banggakan karena itu lahir dan terwujud atas ide warga kota bandung yang melek teknologi dan dilakukan langsung di wilayah masingmasing ujar oded oded meminta agar warga kota nandung lainnya untuk menerapkan penggunaan teknologi di lokasi urban farmingnya saya berharap ini bisa direplikasi di wilayah lain sehingga bandung bisa menjadi kota walaupun bandung merupakan kota metropolitan tapi urusan urban farming nya keren pungkasnya',\n",
              "  {'entities': [[179, 186, 'B-LOC'],\n",
              "    [164, 173, 'B-LOC'],\n",
              "    [146, 153, 'B-LOC'],\n",
              "    [3904, 3911, 'B-LOC'],\n",
              "    [4007, 4014, 'B-LOC'],\n",
              "    [4263, 4270, 'B-LOC'],\n",
              "    [4298, 4305, 'B-LOC']]}],\n",
              " ['dari program urbanisasi pria ini datang ke jakarta kesulitan mencari kerja ia berinisiatif untuk memanfaatkan lahan di bantaran kali dan sukses tanam berbagai tumbuhan datang dan menetap di tempat yang baru tidak semudah yang bisa dibayangkan semuanya harus kembali dimulai dari sangat awal atau nol memutar otak untuk bertahan hidup harus dilakukan demi keluarga kuncinya adalah berusaha tidak terpaku dengan keterbatasan lahan dan letak tempat tinggal berpikir kreatif dan melihat semuanya dari segala aspek yang memungkinkan akan sangat membantu untuk menemukan sesuatu yang bisa dipergunakan untuk bertahan hidup kisah upaya bertahan hidup ini juga dilakukan oleh seorang pendatang yang kini hidup di bantaran kali ciliwung berawal dari kesulitan mendapatkan pekerjaan di ibukota siapa sangka dirinya justru berhasil hidupkan lahan kosong di pinggir kali mengutip akun youtube kementerian pertanian ri andiya merupakan seorang pria yang tinggal di bantaran kali ciliwung rumahnya bahkan tepat berada di sisi kali ciliwung kedatangannya ke ibukota dirasa tidak disambut baik karena kesulitan demi kesulitan begitu dirasakan oleh dirinya tidak ada pekerjaan yang mau menerima dirinya sedangkan andiya berkewajiban untuk menafkahi keluarga setiap hari baca juga mantan sopir metromini jadi petani lidah buaya segini omzetnya hingga pada suatu waktu ia melihat lahan kosong di dekat rumahnya yang tidak terpakai dibiarkan begitu saja andiya percaya bahwa lahan tersebut bisa ditanami beberapa jenis tumbuhan dan dirasakan hasilnya basic saya kan seorang petani pas kebetulan lagi susahsusahnya cari kerjaan terus lihat lahan begini masa iya kan nggak bisa dimanfaatkan sih kata andiya berawal dari mencoba menanam 150 pohon oyong andiya menemukan bahwa hasil panennya ternyata cukup bagus dan memuaskan awalnya panen oyong yang didapatkannya ini dirasa masih sangat sedikit untuk dijual sehingga tanamannya justru dinikmati sendiri dan sebagian dibagikan kepada tetangga setelah keberhasilannya tersebut andiya mulai mengembangkan lebih banyak tanaman selain bertujuan untuk memanfaatkan lahan kosong dan memenuhi kebutuhan hidup cara yang dilakukan andiya ini juga bertujuan untuk mencegah bantaran kali ciliwung yang dijadikan tempat pembuangan sampah oleh masyarakat sekitar mulai dari cabe singkong hingga bonsai bahkan ditanam di lahan terbatasnya ini walaupun tidak begitu menutup kebutuhan harian andiya mensyukuri bahwa pekerjaannya ini tetap mendatangkan rezeki yang halal untuk keluarganya perjalanannya menanam tumbuhan di pinggir kali ini juga tidak mulus setiap akhir tahun atau memasuki musim hujan andiya mengaku harus berhenti menanam agar tidak rusak akibat banjir kesuksesannya ini bahkan membuat banyak sekali bantuan datang untuk dirinya mulai dari lembaga pemerintahan hingga beberapa lembaga swasta memberikannya bibit dan pupuk yang diakui begitu memudahkan untuk menanam perhatian yang didapatkannya ini berasal dari ketertarikan banyak lembaga yang melihat bahwa kegiatan andiya ini sangat baik untuk ketahanan pangan sampai saat ini harapan andiya hanya semakin banyak perhatian yang bisa diberikan pada petani kecil di jakarta untuk mengembangkan kegiatan urban farming baca juga pantang menyerah gagal jadi tentara pria ini sukses jadi petani cabe',\n",
              "  {'entities': [[43, 50, 'B-LOC'],\n",
              "    [1817, 1822, 'B-COM'],\n",
              "    [1724, 1729, 'B-COM'],\n",
              "    [2289, 2293, 'B-COM'],\n",
              "    [2294, 2302, 'B-COM'],\n",
              "    [3146, 3153, 'B-LOC'],\n",
              "    [3271, 3275, 'B-COM']]}],\n",
              " ['di kota pasuruan berhasil menerapkan urban farming atau pertanian perkotaan di saat pandemi virus covid19 budidaya sayuran organik dikerjakan bersama dan hasil panen dinikmati seluruh warga budidaya sayuran organik berhasil dilakukan warga kelurahan sekargadung kecamatan purworejo kota pasuruan lahan kosong maupun pekarangan warga ditanami bayam sawi cabai terong hingga gambas seluruh proses persiapan lahan pembibitan penanaman perawatan hingga panen dilakukan swadaya setelah 3 bulan aneka jenis sayuran dipanen bersama seluruh warga bisa memetik sesuai kebutuhan awal mulanya karena masa pandemi kan ibuibu di rumah saja biar nggak ke pasar akhirnya tanamtanam biar gerak dan tetap sehat mereka semangat antusias nah kebetulan kelurahan dan kecamatan mendukung akhirnya bisa sampai panen kata salah satu ketua rw nizar sabtu 9102021 di kelurahan sekargadung yang terdiri dari delapan rukun warga rw empat rw yang sudah memiliki kebun sayuran organik keberhasilan empat rw ini akan ditukarkan ke rw lain ratarata luasan lahan 80 meter persegi lahan kosong yang nggak dimanfaatkan dijadikan kebun hasilnya bisa dinikmati 60 sampai 80 kepala keluarga kk ujar nizar salah satu warga putri hermalia mengatakan kebun sayur organik sangat bermanfaat bagi warga terutama kaum hawa selain bisa belajar bertanam sayuran organik juga tetap produktif saat pandemi hasil panen juga bisa untuk memenuhi kebutuhan sayuran selama beberapa minggu kegiatan ini akan tetap dilanjutkan dan dikembangkan ibuibu ujarnya camat purworejo alfian afandi yang ikut memanen sayuran bangga dengan karya warganya ke depan pihaknya akan memberikan dukungan penuh baik modal maupun akses pasar ini hasil karya mandiri warga dan bisa dikembangkan kami akan mengupayakan anggaran dan pasar produk ini bisa dimasukkan ke pasarpasar modern terangnya ia juga berharap kebun organik bisa dicontoh kelurahan lain sekaligus mendukung program pak wali kota satu kelurahan satu produk unggulan mungkin di kelurahan lain bisa buah dan lainnya pungkas alfian',\n",
              "  {'entities': [[8, 16, 'B-LOC'],\n",
              "    [115, 122, 'B-COM'],\n",
              "    [123, 130, 'I-COM'],\n",
              "    [199, 206, 'B-COM'],\n",
              "    [207, 214, 'I-COM'],\n",
              "    [250, 261, 'B-LOC'],\n",
              "    [272, 281, 'B-LOC'],\n",
              "    [287, 295, 'B-LOC'],\n",
              "    [342, 347, 'B-COM'],\n",
              "    [348, 352, 'B-COM'],\n",
              "    [353, 358, 'B-COM'],\n",
              "    [359, 365, 'B-COM'],\n",
              "    [373, 379, 'B-COM'],\n",
              "    [501, 508, 'B-COM'],\n",
              "    [852, 863, 'B-LOC'],\n",
              "    [1510, 1519, 'B-LOC'],\n",
              "    [1552, 1559, 'B-COM']]}],\n",
              " ['teknologi listrik tenaga matahari mulai memasyarakat seperti yang terlihat di lahan pertanian urban farming di rancasari kota bandung lebih irit gaess deretan panel surya yang dikelola buaruan sehat alami ekonomis sae p2l riyadhul jannah terlihat di perumahan demarekesh kecamatan rancasari kota bandung panel surya dipergunakan untuk sumber listrik di lahan pertanian urban itu',\n",
              "  {'entities': [[126, 133, 'B-LOC'], [296, 303, 'B-LOC']]}],\n",
              " ['kegiatan berkebun makin diminati di masa pandemi covid19 oleh masyarakat urban container farming ini pun bisa jadi solusi berkebun dengan lahan yang minim dinas ketahanan pangan kelautan dan pertanian dki jakarta memperkenalkan container farming dan agro electrifying di agro edukasi wisata ragunan jakarta',\n",
              "  {'entities': [[201, 204, 'B-LOC'],\n",
              "    [205, 212, 'I-LOC'],\n",
              "    [299, 306, 'B-LOC']]}],\n",
              " ['kelurahan duren tiga jakarta selatan memanfaatkan rptra tiga durian sebagai wadah green house sentra anggur untuk mendukung gerakan urban farming di ibukota',\n",
              "  {'entities': [[10, 15, 'B-LOC'],\n",
              "    [16, 20, 'I-LOC'],\n",
              "    [21, 28, 'B-LOC'],\n",
              "    [29, 36, 'I-LOC'],\n",
              "    [101, 107, 'B-COM']]}],\n",
              " ['ada yang unik dari gang hijau atau gang mede di kelurahan pegangsaan dua jakarta utara di sisi kirikanan gang ditanami tanaman hias hingga urban farming',\n",
              "  {'entities': [[58, 68, 'B-LOC'],\n",
              "    [69, 72, 'I-LOC'],\n",
              "    [73, 80, 'B-LOC'],\n",
              "    [81, 86, 'I-LOC'],\n",
              "    [127, 131, 'I-COM'],\n",
              "    [119, 126, 'B-COM']]}]]"
            ]
          },
          "metadata": {},
          "execution_count": 183
        }
      ]
    },
    {
      "cell_type": "code",
      "metadata": {
        "id": "31yFdyFdZr_C"
      },
      "source": [
        "import pickle\n",
        "import spacy\n",
        "import random\n",
        "from spacy.util import minibatch, compounding\n",
        "from spacy import load, displacy"
      ],
      "id": "31yFdyFdZr_C",
      "execution_count": 184,
      "outputs": []
    },
    {
      "cell_type": "code",
      "metadata": {
        "id": "eWqxkhZsoajM",
        "colab": {
          "base_uri": "https://localhost:8080/"
        },
        "outputId": "6bdeb957-5b6a-49f6-8122-ee957428b693"
      },
      "source": [
        "nlp=spacy.blank(\"id\")\n",
        "\n",
        "nlp.add_pipe(nlp.create_pipe('ner'))\n",
        "\n",
        "nlp.begin_training()"
      ],
      "id": "eWqxkhZsoajM",
      "execution_count": 185,
      "outputs": [
        {
          "output_type": "execute_result",
          "data": {
            "text/plain": [
              "<thinc.neural.optimizers.Optimizer at 0x7f64df109c90>"
            ]
          },
          "metadata": {},
          "execution_count": 185
        }
      ]
    },
    {
      "cell_type": "code",
      "metadata": {
        "id": "-k3DkBE5ubyA"
      },
      "source": [
        "ner=nlp.get_pipe(\"ner\")\n",
        "\n",
        "pipe_exceptions = [\"ner\", \"trf_wordpiecer\", \"trf_tok2vec\"]\n",
        "\n",
        "unaffected_pipes = [pipe for pipe in nlp.pipe_names if pipe not in pipe_exceptions]"
      ],
      "id": "-k3DkBE5ubyA",
      "execution_count": 186,
      "outputs": []
    },
    {
      "cell_type": "code",
      "metadata": {
        "id": "rWpiuCVqub0e"
      },
      "source": [
        "for _, annotations in ner_spacy_fmt_datasets:\n",
        "    for ent in annotations.get(\"entities\"):\n",
        "        ner.add_label(ent[2])\n",
        "        break"
      ],
      "id": "rWpiuCVqub0e",
      "execution_count": 187,
      "outputs": []
    },
    {
      "cell_type": "code",
      "metadata": {
        "id": "_uZkIQvrRBU6"
      },
      "source": [
        "TRAIN_DATA = ner_spacy_fmt_datasets"
      ],
      "id": "_uZkIQvrRBU6",
      "execution_count": 189,
      "outputs": []
    },
    {
      "cell_type": "code",
      "metadata": {
        "id": "1uhYK3YmRBXS"
      },
      "source": [
        "# Adding labels to the `ner`\n",
        "\n",
        "for _, annotations in TRAIN_DATA:\n",
        "  for ent in annotations.get(\"entities\"):\n",
        "    ner.add_label(ent[2])"
      ],
      "id": "1uhYK3YmRBXS",
      "execution_count": 190,
      "outputs": []
    },
    {
      "cell_type": "code",
      "metadata": {
        "id": "8KxxlfZbRBZb"
      },
      "source": [
        "# Disable pipeline components you dont need to change\n",
        "pipe_exceptions = [\"ner\", \"trf_wordpiecer\", \"trf_tok2vec\"]\n",
        "unaffected_pipes = [pipe for pipe in nlp.pipe_names if pipe not in pipe_exceptions]"
      ],
      "id": "8KxxlfZbRBZb",
      "execution_count": 191,
      "outputs": []
    },
    {
      "cell_type": "code",
      "metadata": {
        "id": "dGT68qTmRiMu"
      },
      "source": [
        "import nltk"
      ],
      "id": "dGT68qTmRiMu",
      "execution_count": 192,
      "outputs": []
    },
    {
      "cell_type": "code",
      "metadata": {
        "colab": {
          "base_uri": "https://localhost:8080/"
        },
        "id": "VfRzRxI9RBb0",
        "outputId": "2cdcede2-0785-497e-85f4-39fd4066c63f"
      },
      "source": [
        "# Import requirements\n",
        "import random\n",
        "from spacy.util import minibatch, compounding\n",
        "from pathlib import Path\n",
        "\n",
        "# TRAINING THE MODEL\n",
        "with nlp.disable_pipes(*unaffected_pipes):\n",
        "\n",
        "  # Training for 30 iterations\n",
        "  for iteration in range(30):\n",
        "\n",
        "    # shuufling examples  before every iteration\n",
        "    random.shuffle(TRAIN_DATA)\n",
        "    losses = {}\n",
        "    # batch up the examples using spaCy's minibatch\n",
        "    batches = minibatch(TRAIN_DATA, size=compounding(4.0, 32.0, 1.001))\n",
        "    for batch in batches:\n",
        "        texts, annotations = zip(*batch)\n",
        "        nlp.update(\n",
        "                    texts,  # batch of texts\n",
        "                    annotations,  # batch of annotations\n",
        "                    drop=0.5,  # dropout - make it harder to memorise data\n",
        "                    losses=losses,\n",
        "                )\n",
        "        print(\"Losses\", losses)"
      ],
      "id": "VfRzRxI9RBb0",
      "execution_count": 193,
      "outputs": [
        {
          "output_type": "stream",
          "name": "stdout",
          "text": [
            "Losses {'ner': 400.0000858306885}\n",
            "Losses {'ner': 2192.653703689575}\n",
            "Losses {'ner': 3901.251977920532}\n",
            "Losses {'ner': 4518.445608139038}\n",
            "Losses {'ner': 4898.501559972763}\n",
            "Losses {'ner': 658.3155488967896}\n",
            "Losses {'ner': 1519.8360395431519}\n",
            "Losses {'ner': 1923.8866910934448}\n",
            "Losses {'ner': 2389.3561334609985}\n",
            "Losses {'ner': 2662.1601326465607}\n",
            "Losses {'ner': 573.8687076568604}\n",
            "Losses {'ner': 1213.9566860198975}\n",
            "Losses {'ner': 1529.3635187149048}\n",
            "Losses {'ner': 1928.5053758621216}\n",
            "Losses {'ner': 1953.5881200546683}\n",
            "Losses {'ner': 610.2525129318237}\n",
            "Losses {'ner': 1099.1205224990845}\n",
            "Losses {'ner': 1588.3147821426392}\n",
            "Losses {'ner': 1938.3525552749634}\n",
            "Losses {'ner': 1956.007263232158}\n",
            "Losses {'ner': 491.88411235809326}\n",
            "Losses {'ner': 916.1645693778992}\n",
            "Losses {'ner': 1516.9347777366638}\n",
            "Losses {'ner': 2003.4663500785828}\n",
            "Losses {'ner': 2015.9090414692764}\n",
            "Losses {'ner': 347.6145553588867}\n",
            "Losses {'ner': 1124.330234527588}\n",
            "Losses {'ner': 1333.720703125}\n",
            "Losses {'ner': 1973.371636390686}\n",
            "Losses {'ner': 1985.5825629103297}\n",
            "Losses {'ner': 148.0494933128357}\n",
            "Losses {'ner': 838.0969891548157}\n",
            "Losses {'ner': 1223.9575247764587}\n",
            "Losses {'ner': 1675.4756054878235}\n",
            "Losses {'ner': 1935.6157054901123}\n",
            "Losses {'ner': 449.7380886077881}\n",
            "Losses {'ner': 1099.7171688079834}\n",
            "Losses {'ner': 1538.0635070800781}\n",
            "Losses {'ner': 1816.4522066116333}\n",
            "Losses {'ner': 1995.579604911618}\n",
            "Losses {'ner': 318.74559211730957}\n",
            "Losses {'ner': 1191.0322661399841}\n",
            "Losses {'ner': 1935.5808148384094}\n",
            "Losses {'ner': 2002.1365555524826}\n",
            "Losses {'ner': 2017.6197419066448}\n",
            "Losses {'ner': 213.8873769044876}\n",
            "Losses {'ner': 853.3478509187698}\n",
            "Losses {'ner': 1310.555826306343}\n",
            "Losses {'ner': 1700.0563079118729}\n",
            "Losses {'ner': 1911.2601143717766}\n",
            "Losses {'ner': 450.05619621276855}\n",
            "Losses {'ner': 846.0741672515869}\n",
            "Losses {'ner': 1329.4446458816528}\n",
            "Losses {'ner': 1921.9377908706665}\n",
            "Losses {'ner': 1946.2447484718823}\n",
            "Losses {'ner': 505.98134326934814}\n",
            "Losses {'ner': 962.2050762176514}\n",
            "Losses {'ner': 1153.9427328109741}\n",
            "Losses {'ner': 1664.6591596603394}\n",
            "Losses {'ner': 1962.050810098648}\n",
            "Losses {'ner': 289.0808334350586}\n",
            "Losses {'ner': 706.7483005523682}\n",
            "Losses {'ner': 1231.4148035049438}\n",
            "Losses {'ner': 1922.1420640945435}\n",
            "Losses {'ner': 1947.3869786002524}\n",
            "Losses {'ner': 462.07957124710083}\n",
            "Losses {'ner': 757.3829808235168}\n",
            "Losses {'ner': 1118.8379335403442}\n",
            "Losses {'ner': 1641.4099140167236}\n",
            "Losses {'ner': 1898.3354609784474}\n",
            "Losses {'ner': 210.61850881576538}\n",
            "Losses {'ner': 1067.8956809043884}\n",
            "Losses {'ner': 1675.409921169281}\n",
            "Losses {'ner': 1934.5460314750671}\n",
            "Losses {'ner': 1948.2765835186797}\n",
            "Losses {'ner': 60.25605070590973}\n",
            "Losses {'ner': 527.7092930078506}\n",
            "Losses {'ner': 864.6208158731461}\n",
            "Losses {'ner': 1794.9283720254898}\n",
            "Losses {'ner': 1919.855088353157}\n",
            "Losses {'ner': 415.5075807571411}\n",
            "Losses {'ner': 607.706024646759}\n",
            "Losses {'ner': 1398.3298115730286}\n",
            "Losses {'ner': 1878.7962183952332}\n",
            "Losses {'ner': 1895.7598319759616}\n",
            "Losses {'ner': 619.394681930542}\n",
            "Losses {'ner': 686.8174098134041}\n",
            "Losses {'ner': 1448.3989537358284}\n",
            "Losses {'ner': 1773.1491282582283}\n",
            "Losses {'ner': 1913.518870294094}\n",
            "Losses {'ner': 268.08972096443176}\n",
            "Losses {'ner': 974.3882801532745}\n",
            "Losses {'ner': 1373.505559206009}\n",
            "Losses {'ner': 1765.9312479496002}\n",
            "Losses {'ner': 1904.1373977661133}\n",
            "Losses {'ner': 620.939549446106}\n",
            "Losses {'ner': 783.639045715332}\n",
            "Losses {'ner': 1408.1256504058838}\n",
            "Losses {'ner': 1881.5644550323486}\n",
            "Losses {'ner': 1895.1784974575282}\n",
            "Losses {'ner': 422.6451721191406}\n",
            "Losses {'ner': 737.3151903152466}\n",
            "Losses {'ner': 1120.80699634552}\n",
            "Losses {'ner': 1838.3845920562744}\n",
            "Losses {'ner': 1856.2665539099785}\n",
            "Losses {'ner': 285.20286750793457}\n",
            "Losses {'ner': 823.6073875427246}\n",
            "Losses {'ner': 1449.6744136810303}\n",
            "Losses {'ner': 1847.039563179016}\n",
            "Losses {'ner': 1871.6375109988116}\n",
            "Losses {'ner': 531.8178310394287}\n",
            "Losses {'ner': 1148.7502899169922}\n",
            "Losses {'ner': 1205.9278293848038}\n",
            "Losses {'ner': 1548.1468020677567}\n",
            "Losses {'ner': 1898.8335375189781}\n",
            "Losses {'ner': 485.540735244751}\n",
            "Losses {'ner': 1028.6332626342773}\n",
            "Losses {'ner': 1589.3472528457642}\n",
            "Losses {'ner': 1874.8468627929688}\n",
            "Losses {'ner': 1891.341947438635}\n",
            "Losses {'ner': 330.04389572143555}\n",
            "Losses {'ner': 625.2799921035767}\n",
            "Losses {'ner': 1277.8834524154663}\n",
            "Losses {'ner': 1717.2147192955017}\n",
            "Losses {'ner': 1865.0798288760707}\n",
            "Losses {'ner': 278.13832569122314}\n",
            "Losses {'ner': 527.6057901382446}\n",
            "Losses {'ner': 958.0520811080933}\n",
            "Losses {'ner': 1542.1845483779907}\n",
            "Losses {'ner': 1899.6894040107727}\n",
            "Losses {'ner': 376.6059513092041}\n",
            "Losses {'ner': 1224.1593704223633}\n",
            "Losses {'ner': 1577.70139503479}\n",
            "Losses {'ner': 1834.622646331787}\n",
            "Losses {'ner': 1850.2158506854323}\n",
            "Losses {'ner': 492.3028335571289}\n",
            "Losses {'ner': 1481.7230792045593}\n",
            "Losses {'ner': 1736.5531253814697}\n",
            "Losses {'ner': 1788.6654265655234}\n",
            "Losses {'ner': 1809.5557453754054}\n",
            "Losses {'ner': 689.9069714546204}\n",
            "Losses {'ner': 1055.4595284461975}\n",
            "Losses {'ner': 1294.31636428833}\n",
            "Losses {'ner': 1689.2365889549255}\n",
            "Losses {'ner': 1825.9293192157784}\n",
            "Losses {'ner': 802.5517234802246}\n",
            "Losses {'ner': 1307.4600143432617}\n",
            "Losses {'ner': 1368.5740941686672}\n",
            "Losses {'ner': 1707.2376054449123}\n",
            "Losses {'ner': 1816.9761816186947}\n"
          ]
        }
      ]
    },
    {
      "cell_type": "code",
      "metadata": {
        "colab": {
          "base_uri": "https://localhost:8080/"
        },
        "id": "N3ghgydiZdQ6",
        "outputId": "9ba61964-7473-4425-8579-2b4611d4f7d2"
      },
      "source": [
        "doc = nlp(\"farming menjadi tren dan kegiatan baru yang digemari banyak orang terutama di daerah perkotaan salah satunya dikarenakan pandemi covid19 serta kebijakan work from home wfh membuat orangorang lebih banyak berada di rumah dan mencari aktivitas baru agar tidak merasa bosan direktur jenderal hortikultura prihasto setyanto melihat urban farming setahun belakangan ini sebagai fenomena yang luar biasa dirinya menyatakan bahwa sejak urban farming menjadi tren penjualan benih hortikultura meningkat hingga lima kali lipat pandemi dan wfh membuat orang memiliki aktivitas baru di rumah seperti urban farming dengan menanam hidroponik di rumah ini adalah fenomena luar biasa kami memantau penjualan benih sejak tren ini berlangsung dan ternyata benih horti meningkat hingga lima kali lipat ujar pria yang akrab disapa anton ini dalam keterangan tertulis kamis 1122021 selain tanaman sayuran lanjutnya tanaman hias juga berperan sangat signifikan pada tren urban farming peminatnya meningkat bahkan sampai memunculkan petanipetani tanaman hias dari generasi milenial yang sukses tidak hanya itu anton turut memaparkan ekspor tanaman hias naik hingga tiga kali lipat pada 2019 ekspor tanaman hias berada di angka 105 juta pieces sementara pada november 2020 meningkat di angka 333 juta pieces animo masyarakat sangat tinggi dan ini merupakan dukungan untuk pertanian indonesia terutama subsektor hortikultura tambahnya sebagai salah satu bentuk apresiasi kementan terhadap urban farming pada tahun anggaran 2020 ditjen hortikultura telah meluncurkan kegiatan urban farming dengan menyebarkan penanaman cabai di wilayah dki jakarta seluas 47 hektare yang dimanfaatkan oleh 71 kt dan bawang merah seluas 2 hektare yang ditanam di wilayah angkatan udara halim perdana kusuma bantuan yang diberikan berupa benih cabai benih bawang merah pupuk organik dan pengendali opt ramah lingkungan likat kuning mengenai kebijakan urban farming anton menjelaskan kementan di bawah arahan menteri pertanian syahrul yasin limpo syl memiliki program pengembangan kampung hortikultura program ini tidak hanya menyasar lahan hamparan yang sudah ada tetapi juga petani dengan lahan sempit mengapa dinamakan kampung supaya terkonsentrasi dan terfokus kita fokuskan di desadesa dengan salah satu sasaran petani lahan sempit jadi 10 hektare bukan hanya hamparan saja jelas anton kampung hortikultura mengusung konsep one village one variety ovov komoditas yang dikembangkan akan disesuaikan dengan agroekosistemnya kemudian kampung tersebut akan dibantu benih unggul pengendalian opt serta sarana dan prasarana dengan tetap memperhatikan sisi ramah lingkungan melalui program kampung hortikultura anton berharap mampu meningkatkan kesejahteraan para petani dengan produktivitas hasil yang tinggi dan pengembangannya menjadi area agro edu wisata sebagai informasi urban farming merupakan usaha pertanian di perkotaan dengan memanfaatkan lahanlahan terbuka yang ada di sekitar masyarakat luas lahan yang digunakan ratarata seluas 550 m2 komoditas yang umum diusahakan adalah tanaman yang berumur pendek seperti aneka sayuran daun dan buah tanaman obat serta tanaman hias turut hadir dalam fgd ini artis dan pegiat aquaponik mark sungkar dosen ipb dan pakar urban farming hadi deddy soesilo penyuluh pertanian dinas pertanian karawang ajud tajrudin artis dan pegiat pangan organik melly manuhutu staf ahli mentan bidang infrastruktur pertanian 20152018 ani andayani praktisi hidroponik suci puji suryani dan plt kepala dinas kpkp provinsi dki jakarta suharini eliawati\")\n",
        "\n",
        "print(doc.ents)\n",
        "print(\"Entities\", [(ent.text, ent.label_) for ent in doc.ents])"
      ],
      "id": "N3ghgydiZdQ6",
      "execution_count": 196,
      "outputs": [
        {
          "output_type": "stream",
          "name": "stdout",
          "text": [
            "(sayuran, hias, cabai, dki, jakarta, bawang, merah, cabai, benih, bawang, merah, sayuran, daun, buah, tanaman, obat, tanaman, hias, jakarta)\n",
            "Entities [('sayuran', 'B-COM'), ('hias', 'B-COM'), ('cabai', 'B-COM'), ('dki', 'B-COM'), ('jakarta', 'I-COM'), ('bawang', 'B-COM'), ('merah', 'I-COM'), ('cabai', 'B-COM'), ('benih', 'B-COM'), ('bawang', 'B-COM'), ('merah', 'I-COM'), ('sayuran', 'B-COM'), ('daun', 'I-COM'), ('buah', 'B-COM'), ('tanaman', 'B-COM'), ('obat', 'I-COM'), ('tanaman', 'B-COM'), ('hias', 'I-COM'), ('jakarta', 'B-COM')]\n"
          ]
        }
      ]
    },
    {
      "cell_type": "code",
      "metadata": {
        "colab": {
          "base_uri": "https://localhost:8080/"
        },
        "id": "DepBC41GSOOG",
        "outputId": "4b1bd47a-c529-454e-f234-0ab2f87177b3"
      },
      "source": [
        "doc = nlp(\"Urban Farming menanami bawang di jakarta timur dan sayur hijau\")\n",
        "\n",
        "print(doc.ents)\n",
        "print(\"Entities\", [(ent.text, ent.label_) for ent in doc.ents])"
      ],
      "id": "DepBC41GSOOG",
      "execution_count": 195,
      "outputs": [
        {
          "output_type": "stream",
          "name": "stdout",
          "text": [
            "(bawang, jakarta)\n",
            "Entities [('bawang', 'B-COM'), ('jakarta', 'B-COM')]\n"
          ]
        }
      ]
    },
    {
      "cell_type": "code",
      "metadata": {
        "id": "KKhKT-ISSOaN"
      },
      "source": [
        ""
      ],
      "id": "KKhKT-ISSOaN",
      "execution_count": null,
      "outputs": []
    }
  ]
}